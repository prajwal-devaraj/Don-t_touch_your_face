{
  "nbformat": 4,
  "nbformat_minor": 0,
  "metadata": {
    "colab": {
      "provenance": [],
      "gpuType": "T4"
    },
    "kernelspec": {
      "name": "python3",
      "display_name": "Python 3"
    },
    "language_info": {
      "name": "python"
    },
    "accelerator": "GPU"
  },
  "cells": [
    {
      "cell_type": "markdown",
      "source": [
        "**Problem Statement: Don’t Touch Your Face**\n",
        "\n",
        "**Dataset: We will create our own dataset using the Teachable Machine.**\n",
        "\n",
        "**“Class 1 Touch”**\n",
        "\n",
        "**“Class 2 No hands”**\n",
        "\n",
        "**“Class 3 No Touch w Hands”**\n",
        "\n",
        "**Collect your images over 300 per class. Download as *.zip files and add your name information like below:**\n",
        "\n",
        "**“Class 1 Touch.zip”**\n",
        "\n",
        "**“Class 2 No hands.zip”**\n",
        "\n",
        "**“Class 3 No Touch w Hands.zip”**\n",
        "\n",
        "**Make the three zip files into one file like below:**\n",
        "\n",
        "**Project_1_2_.zip**\n",
        "\n",
        "**Submit the data file. We will combine all data and make it usable to everyone. Based on the collected data, you need to build your own CNN model to optimize the recognition performance based on knowledge we learned so far. Your team reports overall accuracy, confusion matrix, training/validation curves of accuracy and loss, and python code with detailed comments.**\n"
      ],
      "metadata": {
        "id": "g0LeAI-zmmiU"
      }
    },
    {
      "cell_type": "markdown",
      "source": [
        "**SOLUTION:**\n",
        "\n",
        "**Step 1: Dataset Extraction**\n",
        "\n",
        "The dataset is downloaded as a .zip file, and the images are extracted into the appropriate directories for each class. This step ensures that the dataset is organized and ready for use.\n",
        "\n",
        "**Step 2: Directory Structure**\n",
        "\n",
        "The folder structure is printed to confirm the extracted dataset and its organization into class-specific folders.\n",
        "\n",
        "**Step 3: Data Splitting**\n",
        "\n",
        "The dataset is split into training, validation, and test sets. This ensures the model has data to train on, validate during training, and test on after training.\n",
        "\n",
        "**Step 4: Data Augmentation**\n",
        "\n",
        "Data augmentation is applied to the training set to improve generalization, while the validation and test sets are only rescaled. This helps the model better handle various input scenarios.\n",
        "\n",
        "**Step 5: CNN Model Architecture**\n",
        "\n",
        "A CNN model is created with convolutional layers, batch normalization, max-pooling, and dropout to optimize classification performance. The model is compiled using the Adam optimizer and categorical cross-entropy loss.\n",
        "\n",
        "**Step 6: Model Training**\n",
        "\n",
        "The model is trained using the training set with early stopping and model checkpointing to prevent overfitting and save the best-performing model. The training is validated using a separate validation set.\n",
        "\n",
        "**Step 7: Training Visualization**\n",
        "\n",
        "Training and validation accuracy, as well as loss curves, are plotted to assess model performance across epochs, identifying potential overfitting or underfitting.\n",
        "\n",
        "**Step 8: Confusion Matrix**\n",
        "\n",
        "A confusion matrix is generated to visualize the model's performance, showing how well it predicts each class and identifying any misclassifications.\n",
        "\n",
        "**Step 9: Classification Report**\n",
        "\n",
        "A detailed classification report is generated, displaying precision, recall, F1-score, and support for each class, providing a comprehensive view of the model’s performance.\n",
        "\n",
        "These steps ensure the successful creation, training, and evaluation of a face-touch detection model."
      ],
      "metadata": {
        "id": "OLIGoMomwcyc"
      }
    },
    {
      "cell_type": "markdown",
      "source": [
        "**Step 1: Data Loading and Extraction from Google Drive**\n",
        "\n",
        "In this step, we import necessary libraries and mount Google Drive to access the dataset. The dataset is stored as a ZIP file in Google Drive, and we specify its path to ensure its existence. If the file is found, it is extracted to a specified directory in the Colab environment.\n",
        "\n",
        "After extraction, we verify whether the dataset has been successfully\n",
        "extracted by listing the files in the destination folder. This step\n",
        "ensures that the data is correctly loaded and ready for preprocessing\n",
        "before training the CNN model."
      ],
      "metadata": {
        "id": "5bT4T-6_nEN_"
      }
    },
    {
      "cell_type": "code",
      "execution_count": null,
      "metadata": {
        "colab": {
          "base_uri": "https://localhost:8080/"
        },
        "id": "l4m-iybdXGJn",
        "outputId": "30bd7b95-b75b-4c0c-82bf-1ce9d65bea92"
      },
      "outputs": [
        {
          "output_type": "stream",
          "name": "stdout",
          "text": [
            "Drive already mounted at /content/drive; to attempt to forcibly remount, call drive.mount(\"/content/drive\", force_remount=True).\n",
            "File found: /content/drive/MyDrive/Project_1_2_.zip\n",
            "Extracting files...\n",
            "Extraction complete!\n",
            "Extracted files: ['Project_1_2_']\n"
          ]
        }
      ],
      "source": [
        "# Import necessary libraries\n",
        "import os\n",
        "import zipfile\n",
        "import numpy as np\n",
        "import matplotlib.pyplot as plt\n",
        "import tensorflow as tf\n",
        "from tensorflow.keras import layers, models\n",
        "from tensorflow.keras.preprocessing.image import ImageDataGenerator\n",
        "from sklearn.metrics import confusion_matrix, classification_report\n",
        "import seaborn as sns\n",
        "\n",
        "# Mount Google Drive\n",
        "from google.colab import drive\n",
        "drive.mount('/content/drive')\n",
        "\n",
        "# Define the zip file path inside Google Drive\n",
        "zip_path = \"/content/drive/MyDrive/Project_1_2_.zip\"\n",
        "\n",
        "# Check if the file exists in Google Drive\n",
        "if os.path.exists(zip_path):\n",
        "    print(\"File found:\", zip_path)\n",
        "else:\n",
        "    print(\"File not found! Please check the path and try again.\")\n",
        "\n",
        "# Define extraction directory\n",
        "extract_dir = \"/content/dataset\"\n",
        "\n",
        "# Extract the zip file\n",
        "if os.path.exists(zip_path):\n",
        "    print(\"Extracting files...\")\n",
        "    with zipfile.ZipFile(zip_path, 'r') as zip_ref:\n",
        "        zip_ref.extractall(extract_dir)\n",
        "    print(\"Extraction complete!\")\n",
        "else:\n",
        "    print(\"Extraction skipped: Zip file not found.\")\n",
        "\n",
        "# Verify extracted files\n",
        "if os.path.exists(extract_dir):\n",
        "    print(\"Extracted files:\", os.listdir(extract_dir))\n",
        "else:\n",
        "    print(\"Extraction failed or directory does not exist.\")\n"
      ]
    },
    {
      "cell_type": "markdown",
      "source": [
        "**Step 2: Dataset Directory Structure Visualization**\n",
        "\n",
        "In this step, we define a function to display the directory structure of the extracted dataset. The function recursively navigates through the dataset folder, printing only the directory names while maintaining the hierarchical structure.\n",
        "\n",
        "This helps in understanding the organization of the dataset, including the number of subdirectories (such as classes in a classification problem) and their nesting levels. Proper structuring ensures that the dataset is correctly formatted for further preprocessing and model training."
      ],
      "metadata": {
        "id": "qaj2uVw0ptz-"
      }
    },
    {
      "cell_type": "code",
      "source": [
        "import os\n",
        "\n",
        "# Function to print only the directory structure (without files)\n",
        "def print_directory_structure(directory, level=0):\n",
        "    # List the contents of the directory\n",
        "    contents = os.listdir(directory)\n",
        "\n",
        "    # Print the current directory's name with indentation for hierarchy level\n",
        "    print('  ' * level + f'{directory}')\n",
        "\n",
        "    # Iterate through the contents of the directory\n",
        "    for item in contents:\n",
        "        item_path = os.path.join(directory, item)\n",
        "\n",
        "        # If the item is a directory, recursively print its structure\n",
        "        if os.path.isdir(item_path):\n",
        "            print_directory_structure(item_path, level + 1)\n",
        "\n",
        "# Start from the extraction directory and print its structure\n",
        "print_directory_structure(extract_dir)\n"
      ],
      "metadata": {
        "colab": {
          "base_uri": "https://localhost:8080/"
        },
        "id": "AGBswqOv-VXg",
        "outputId": "fcbd393b-758f-4496-c865-2e351ab9670c"
      },
      "execution_count": null,
      "outputs": [
        {
          "output_type": "stream",
          "name": "stdout",
          "text": [
            "/content/dataset\n",
            "  /content/dataset/Project_1_2_\n",
            "    /content/dataset/Project_1_2_/originaldata\n",
            "      /content/dataset/Project_1_2_/originaldata/Class 2 No hands\n",
            "      /content/dataset/Project_1_2_/originaldata/Class 3 No Touch w Hands\n",
            "      /content/dataset/Project_1_2_/originaldata/Class 1 Touch\n"
          ]
        }
      ]
    },
    {
      "cell_type": "markdown",
      "source": [
        "**Step 3: Dataset Splitting into Train, Validation, and Test Sets**\n",
        "\n",
        "In this step, we prepare the dataset for model training by splitting it into three subsets: training, validation, and test sets. This ensures that the model is trained on one portion of the data, fine-tuned using another (validation set), and finally evaluated on an unseen test set.\n",
        "\n",
        "The process involves:\n",
        "\n",
        "1. Defining Paths: We specify the paths for the original dataset and the new directories for training, validation, and test sets.\n",
        "\n",
        "2. Creating Folders: If the split directories do not exist, they are created.\n",
        "\n",
        "3. Splitting the Data:\n",
        "The dataset is categorized into different classes (subdirectories).\n",
        "  * Images within each class are randomly shuffled.\n",
        "  * A predefined ratio is used to divide the images into training (default: 80%), validation (10%), and test (10%).\n",
        "\n",
        "4. Organizing the Data: The images are moved into their respective class folders within the train, validation, and test directories.\n",
        "\n",
        "5. Verifying the Split: The script prints the contents of each split directory to confirm the process was successful.\n",
        "\n",
        "This structured approach ensures that the dataset is well-organized and ready for training the CNN model."
      ],
      "metadata": {
        "id": "_8NqnKZo6ezy"
      }
    },
    {
      "cell_type": "code",
      "source": [
        "import os\n",
        "import random\n",
        "import shutil\n",
        "\n",
        "# Define the paths for the original dataset and the new split directories\n",
        "original_dataset_dir = '/content/dataset/Project_1_2_/originaldata'  # Path to the extracted data folder (ensure this points to the correct folder)\n",
        "train_dir = '/content/dataset/train'  # Path for training images\n",
        "valid_dir = '/content/dataset/validation'  # Path for validation images\n",
        "test_dir = '/content/dataset/test'  # Path for testing images\n",
        "\n",
        "# Create directories for the splits if they don't exist\n",
        "os.makedirs(train_dir, exist_ok=True)\n",
        "os.makedirs(valid_dir, exist_ok=True)\n",
        "os.makedirs(test_dir, exist_ok=True)\n",
        "\n",
        "\n",
        "# Iterate through each class directory in the original dataset and split the data\n",
        "def split_data(original_dataset_dir, train_dir, valid_dir, test_dir, test_ratio=0.1, valid_ratio=0.1):\n",
        "    # Get the list of class names (subdirectories) in the original dataset directory\n",
        "    class_names = os.listdir(original_dataset_dir)\n",
        "\n",
        "    for class_name in class_names:\n",
        "        class_dir = os.path.join(original_dataset_dir, class_name)\n",
        "\n",
        "        # Only proceed if it's a directory (to avoid non-class files)\n",
        "        if not os.path.isdir(class_dir):\n",
        "            continue\n",
        "\n",
        "        # Get list of all image files in the current class directory\n",
        "        image_files = os.listdir(class_dir)\n",
        "\n",
        "        # Shuffle the image files randomly\n",
        "        random.shuffle(image_files)\n",
        "\n",
        "        # Calculate the number of files for each split\n",
        "        num_files = len(image_files)\n",
        "        num_test = int(num_files * test_ratio)\n",
        "        num_valid = int(num_files * valid_ratio)\n",
        "        num_train = num_files - num_test - num_valid\n",
        "\n",
        "        # Split the images into training, validation, and testing\n",
        "        train_files = image_files[:num_train]\n",
        "        valid_files = image_files[num_train:num_train + num_valid]\n",
        "        test_files = image_files[num_train + num_valid:]\n",
        "\n",
        "        # Create class subdirectories in the splits\n",
        "        os.makedirs(os.path.join(train_dir, class_name), exist_ok=True)\n",
        "        os.makedirs(os.path.join(valid_dir, class_name), exist_ok=True)\n",
        "        os.makedirs(os.path.join(test_dir, class_name), exist_ok=True)\n",
        "\n",
        "        # Move the files to their respective directories\n",
        "        for file in train_files:\n",
        "            shutil.move(os.path.join(class_dir, file), os.path.join(train_dir, class_name, file))\n",
        "\n",
        "        for file in valid_files:\n",
        "            shutil.move(os.path.join(class_dir, file), os.path.join(valid_dir, class_name, file))\n",
        "\n",
        "        for file in test_files:\n",
        "            shutil.move(os.path.join(class_dir, file), os.path.join(test_dir, class_name, file))\n",
        "\n",
        "# Call the function to split the data into training, validation, and test sets\n",
        "split_data(original_dataset_dir, train_dir, valid_dir, test_dir)\n",
        "\n",
        "# Check the directory structure to ensure the split is done\n",
        "print(\"Training directory structure:\", os.listdir(train_dir))\n",
        "print(\"Validation directory structure:\", os.listdir(valid_dir))\n",
        "print(\"Test directory structure:\", os.listdir(test_dir))\n"
      ],
      "metadata": {
        "colab": {
          "base_uri": "https://localhost:8080/"
        },
        "id": "ps1syLzo2Ekg",
        "outputId": "d9cfd0ef-40e2-4627-eb5f-20bfcf286a09"
      },
      "execution_count": null,
      "outputs": [
        {
          "output_type": "stream",
          "name": "stdout",
          "text": [
            "Training directory structure: ['Class 2 No hands', 'Class 3 No Touch w Hands', 'Class 1 Touch']\n",
            "Validation directory structure: ['Class 2 No hands', 'Class 3 No Touch w Hands', 'Class 1 Touch']\n",
            "Test directory structure: ['Class 2 No hands', 'Class 3 No Touch w Hands', 'Class 1 Touch']\n"
          ]
        }
      ]
    },
    {
      "cell_type": "markdown",
      "source": [
        "**Step 4: Data Preprocessing and Augmentation**\n",
        "\n",
        "In this step, we preprocess the dataset and apply data augmentation techniques to enhance model generalization.\n",
        "\n",
        "Key Steps:\n",
        "\n",
        "1. Define Image Properties:\n",
        "\n",
        "  * Input images are resized to 224x224 pixels (common for CNN models like ResNet, VGG, etc.).\n",
        "  * Batch size is set to 32 for efficient training.\n",
        "\n",
        "2. Data Augmentation (Training Data):\n",
        "\n",
        "  * Random transformations like rotation, width/height shift, shear, zoom, and horizontal flip are applied.\n",
        "  * Helps prevent overfitting and improves model robustness.\n",
        "\n",
        "3. Rescaling (Validation & Test Data): Only pixel normalization (scaling values between 0 and 1) is applied to ensure consistency.\n",
        "\n",
        "4. Data Generators:\n",
        "\n",
        "  * train_generator loads and augments training images.\n",
        "  * valid_generator and test_generator only rescale images for evaluation.\n",
        "\n",
        "5. Dataset Summary:\n",
        "\n",
        "  * The number of images in each category (train, validation, test) is displayed.\n",
        "  * Class labels are printed to verify dataset structure.\n",
        "\n",
        "This step ensures the dataset is properly prepared and ready for CNN model training."
      ],
      "metadata": {
        "id": "WfxUrWSq6lRJ"
      }
    },
    {
      "cell_type": "code",
      "source": [
        "from tensorflow.keras.preprocessing.image import ImageDataGenerator\n",
        "\n",
        "# Set image size and batch size\n",
        "IMAGE_SIZE = (224, 224)\n",
        "BATCH_SIZE = 32\n",
        "\n",
        "# Data augmentation for training (no augmentation for validation and test)\n",
        "train_datagen = ImageDataGenerator(\n",
        "    rescale=1./255,  # Normalize pixel values to [0, 1]\n",
        "    rotation_range=20,\n",
        "    width_shift_range=0.2,\n",
        "    height_shift_range=0.2,\n",
        "    shear_range=0.2,\n",
        "    zoom_range=0.2,\n",
        "    horizontal_flip=True\n",
        ")\n",
        "\n",
        "valid_test_datagen = ImageDataGenerator(rescale=1./255)  # Only rescaling for validation and test\n",
        "\n",
        "# Create generators\n",
        "train_generator = train_datagen.flow_from_directory(\n",
        "    train_dir,  # Path to the training data\n",
        "    target_size=IMAGE_SIZE,\n",
        "    batch_size=BATCH_SIZE,\n",
        "    class_mode='categorical'\n",
        ")\n",
        "\n",
        "valid_generator = valid_test_datagen.flow_from_directory(\n",
        "    valid_dir,  # Path to the validation data\n",
        "    target_size=IMAGE_SIZE,\n",
        "    batch_size=BATCH_SIZE,\n",
        "    class_mode='categorical'\n",
        ")\n",
        "\n",
        "test_generator = valid_test_datagen.flow_from_directory(\n",
        "    test_dir,  # Path to the test data\n",
        "    target_size=IMAGE_SIZE,\n",
        "    batch_size=BATCH_SIZE,\n",
        "    class_mode='categorical',\n",
        "    shuffle=False  # Do not shuffle test data\n",
        ")\n",
        "\n",
        "# Check class names and dataset information\n",
        "class_names = list(train_generator.class_indices.keys())\n",
        "print(\"Classes:\", class_names)\n",
        "print(f\"Training samples: {train_generator.samples}\")\n",
        "print(f\"Validation samples: {valid_generator.samples}\")\n",
        "print(f\"Test samples: {test_generator.samples}\")\n"
      ],
      "metadata": {
        "colab": {
          "base_uri": "https://localhost:8080/"
        },
        "id": "2rwnJthz6rCX",
        "outputId": "240f4a84-731a-424a-a595-34d4077396f7"
      },
      "execution_count": null,
      "outputs": [
        {
          "output_type": "stream",
          "name": "stdout",
          "text": [
            "Found 16162 images belonging to 3 classes.\n",
            "Found 2018 images belonging to 3 classes.\n",
            "Found 2018 images belonging to 3 classes.\n",
            "Classes: ['Class 1 Touch', 'Class 2 No hands', 'Class 3 No Touch w Hands']\n",
            "Training samples: 16162\n",
            "Validation samples: 2018\n",
            "Test samples: 2018\n"
          ]
        }
      ]
    },
    {
      "cell_type": "markdown",
      "source": [
        "**Step 5: Building the CNN Model**\n",
        "\n",
        "In this step, we define and compile a Convolutional Neural Network (CNN) for face-touch detection. The architecture includes multiple convolutional layers, batch normalization, dropout, and dense layers to improve performance and prevent overfitting.\n",
        "\n",
        "Key Components of the CNN Model:\n",
        "\n",
        "1. Convolutional Blocks:\n",
        "\n",
        "  * Three convolutional blocks, each containing two Conv2D layers with ReLU activation and batch normalization to stabilize training.\n",
        "  * MaxPooling is applied to downsample the feature maps.\n",
        "  * Dropout layers are added to reduce overfitting.\n",
        "\n",
        "2. Fully Connected Layers:\n",
        "\n",
        "  * A Flatten layer converts the 2D feature maps into a 1D feature vector.\n",
        "  * A 512-unit Dense layer with ReLU activation is used for feature learning.\n",
        "  * A final Dense layer with softmax activation outputs probabilities for three classes (assuming three categories in the dataset).\n",
        "\n",
        "3. Compilation:\n",
        "\n",
        "  * Optimizer: Adam (efficient and adaptive learning rate optimization).\n",
        "  * Loss Function: Categorical Crossentropy (for multi-class classification).\n",
        "  * Metric: Accuracy (to evaluate classification performance).\n",
        "\n",
        "5. Model Summary: The model architecture is printed to verify the layers and parameters.\n",
        "\n",
        "This well-structured CNN model is now ready for training on the preprocessed dataset."
      ],
      "metadata": {
        "id": "w19ZoHSMASZ0"
      }
    },
    {
      "cell_type": "markdown",
      "source": [
        "**Step 6: Model Training and Evaluation**\n",
        "\n",
        "In this step, we train the CNN model using the preprocessed dataset and apply early stopping and model checkpointing to optimize training.\n",
        "\n",
        "Key Components:\n",
        "\n",
        "1. Callbacks for Training Optimization:\n",
        "\n",
        "  * Early Stopping: Stops training if validation accuracy does not improve for 10 consecutive epochs, restoring the best weights.\n",
        "  * Model Checkpoint: Saves the best-performing model based on validation accuracy.\n",
        "\n",
        "2. Model Training:\n",
        "\n",
        "  * The model is trained using the train_generator and validated with valid_generator.\n",
        "  * The number of epochs is set to 50, but training stops early if no improvement is seen.\n",
        "  * The training process prints real-time progress and accuracy/loss values.\n",
        "\n",
        "3. Model Evaluation:\n",
        "\n",
        "  * After training, the model is evaluated on the test dataset to assess its generalization ability.\n",
        "  * The final test accuracy is printed.\n",
        "\n",
        "5. Model Saving: The final trained model is saved as face_touch_final_model.h5 for future use or deployment.\n",
        "\n",
        "This step ensures that the best-performing model is selected while preventing unnecessary overfitting."
      ],
      "metadata": {
        "id": "ZkiP9dFHOUTa"
      }
    },
    {
      "cell_type": "code",
      "source": [
        "from tensorflow.keras import layers, models\n",
        "\n",
        "# Define the CNN model with Batch Normalization and Dropout layers\n",
        "def build_model():\n",
        "    model = models.Sequential([\n",
        "        # First convolutional block\n",
        "        layers.Conv2D(32, (3, 3), activation='relu', padding='same', input_shape=(224, 224, 3)),\n",
        "        layers.BatchNormalization(),\n",
        "        layers.Conv2D(32, (3, 3), activation='relu', padding='same'),\n",
        "        layers.BatchNormalization(),\n",
        "        layers.MaxPooling2D((2, 2)),\n",
        "        layers.Dropout(0.25),\n",
        "\n",
        "        # Second convolutional block\n",
        "        layers.Conv2D(64, (3, 3), activation='relu', padding='same'),\n",
        "        layers.BatchNormalization(),\n",
        "        layers.Conv2D(64, (3, 3), activation='relu', padding='same'),\n",
        "        layers.BatchNormalization(),\n",
        "        layers.MaxPooling2D((2, 2)),\n",
        "        layers.Dropout(0.25),\n",
        "\n",
        "        # Third convolutional block\n",
        "        layers.Conv2D(128, (3, 3), activation='relu', padding='same'),\n",
        "        layers.BatchNormalization(),\n",
        "        layers.Conv2D(128, (3, 3), activation='relu', padding='same'),\n",
        "        layers.BatchNormalization(),\n",
        "        layers.MaxPooling2D((2, 2)),\n",
        "        layers.Dropout(0.25),\n",
        "\n",
        "        # Flatten and Dense layers\n",
        "        layers.Flatten(),\n",
        "        layers.Dense(512, activation='relu'),\n",
        "        layers.BatchNormalization(),\n",
        "        layers.Dropout(0.5),\n",
        "        layers.Dense(3, activation='softmax')  # 3 classes for classification\n",
        "    ])\n",
        "\n",
        "    # Compile the model\n",
        "    model.compile(\n",
        "        optimizer='adam',\n",
        "        loss='categorical_crossentropy',  # Using categorical crossentropy for multi-class classification\n",
        "        metrics=['accuracy']\n",
        "    )\n",
        "\n",
        "    return model\n",
        "\n",
        "# Create the model\n",
        "model = build_model()\n",
        "\n",
        "# Display the model summary\n",
        "model.summary()\n"
      ],
      "metadata": {
        "id": "jTaMGWiyZgty",
        "colab": {
          "base_uri": "https://localhost:8080/",
          "height": 1000
        },
        "outputId": "8bf3dd70-b342-4024-8bee-1b798cf79a3c"
      },
      "execution_count": null,
      "outputs": [
        {
          "output_type": "stream",
          "name": "stderr",
          "text": [
            "/usr/local/lib/python3.11/dist-packages/keras/src/layers/convolutional/base_conv.py:107: UserWarning: Do not pass an `input_shape`/`input_dim` argument to a layer. When using Sequential models, prefer using an `Input(shape)` object as the first layer in the model instead.\n",
            "  super().__init__(activity_regularizer=activity_regularizer, **kwargs)\n"
          ]
        },
        {
          "output_type": "display_data",
          "data": {
            "text/plain": [
              "\u001b[1mModel: \"sequential\"\u001b[0m\n"
            ],
            "text/html": [
              "<pre style=\"white-space:pre;overflow-x:auto;line-height:normal;font-family:Menlo,'DejaVu Sans Mono',consolas,'Courier New',monospace\"><span style=\"font-weight: bold\">Model: \"sequential\"</span>\n",
              "</pre>\n"
            ]
          },
          "metadata": {}
        },
        {
          "output_type": "display_data",
          "data": {
            "text/plain": [
              "┏━━━━━━━━━━━━━━━━━━━━━━━━━━━━━━━━━━━━━━┳━━━━━━━━━━━━━━━━━━━━━━━━━━━━━┳━━━━━━━━━━━━━━━━━┓\n",
              "┃\u001b[1m \u001b[0m\u001b[1mLayer (type)                        \u001b[0m\u001b[1m \u001b[0m┃\u001b[1m \u001b[0m\u001b[1mOutput Shape               \u001b[0m\u001b[1m \u001b[0m┃\u001b[1m \u001b[0m\u001b[1m        Param #\u001b[0m\u001b[1m \u001b[0m┃\n",
              "┡━━━━━━━━━━━━━━━━━━━━━━━━━━━━━━━━━━━━━━╇━━━━━━━━━━━━━━━━━━━━━━━━━━━━━╇━━━━━━━━━━━━━━━━━┩\n",
              "│ conv2d (\u001b[38;5;33mConv2D\u001b[0m)                      │ (\u001b[38;5;45mNone\u001b[0m, \u001b[38;5;34m224\u001b[0m, \u001b[38;5;34m224\u001b[0m, \u001b[38;5;34m32\u001b[0m)        │             \u001b[38;5;34m896\u001b[0m │\n",
              "├──────────────────────────────────────┼─────────────────────────────┼─────────────────┤\n",
              "│ batch_normalization                  │ (\u001b[38;5;45mNone\u001b[0m, \u001b[38;5;34m224\u001b[0m, \u001b[38;5;34m224\u001b[0m, \u001b[38;5;34m32\u001b[0m)        │             \u001b[38;5;34m128\u001b[0m │\n",
              "│ (\u001b[38;5;33mBatchNormalization\u001b[0m)                 │                             │                 │\n",
              "├──────────────────────────────────────┼─────────────────────────────┼─────────────────┤\n",
              "│ conv2d_1 (\u001b[38;5;33mConv2D\u001b[0m)                    │ (\u001b[38;5;45mNone\u001b[0m, \u001b[38;5;34m224\u001b[0m, \u001b[38;5;34m224\u001b[0m, \u001b[38;5;34m32\u001b[0m)        │           \u001b[38;5;34m9,248\u001b[0m │\n",
              "├──────────────────────────────────────┼─────────────────────────────┼─────────────────┤\n",
              "│ batch_normalization_1                │ (\u001b[38;5;45mNone\u001b[0m, \u001b[38;5;34m224\u001b[0m, \u001b[38;5;34m224\u001b[0m, \u001b[38;5;34m32\u001b[0m)        │             \u001b[38;5;34m128\u001b[0m │\n",
              "│ (\u001b[38;5;33mBatchNormalization\u001b[0m)                 │                             │                 │\n",
              "├──────────────────────────────────────┼─────────────────────────────┼─────────────────┤\n",
              "│ max_pooling2d (\u001b[38;5;33mMaxPooling2D\u001b[0m)         │ (\u001b[38;5;45mNone\u001b[0m, \u001b[38;5;34m112\u001b[0m, \u001b[38;5;34m112\u001b[0m, \u001b[38;5;34m32\u001b[0m)        │               \u001b[38;5;34m0\u001b[0m │\n",
              "├──────────────────────────────────────┼─────────────────────────────┼─────────────────┤\n",
              "│ dropout (\u001b[38;5;33mDropout\u001b[0m)                    │ (\u001b[38;5;45mNone\u001b[0m, \u001b[38;5;34m112\u001b[0m, \u001b[38;5;34m112\u001b[0m, \u001b[38;5;34m32\u001b[0m)        │               \u001b[38;5;34m0\u001b[0m │\n",
              "├──────────────────────────────────────┼─────────────────────────────┼─────────────────┤\n",
              "│ conv2d_2 (\u001b[38;5;33mConv2D\u001b[0m)                    │ (\u001b[38;5;45mNone\u001b[0m, \u001b[38;5;34m112\u001b[0m, \u001b[38;5;34m112\u001b[0m, \u001b[38;5;34m64\u001b[0m)        │          \u001b[38;5;34m18,496\u001b[0m │\n",
              "├──────────────────────────────────────┼─────────────────────────────┼─────────────────┤\n",
              "│ batch_normalization_2                │ (\u001b[38;5;45mNone\u001b[0m, \u001b[38;5;34m112\u001b[0m, \u001b[38;5;34m112\u001b[0m, \u001b[38;5;34m64\u001b[0m)        │             \u001b[38;5;34m256\u001b[0m │\n",
              "│ (\u001b[38;5;33mBatchNormalization\u001b[0m)                 │                             │                 │\n",
              "├──────────────────────────────────────┼─────────────────────────────┼─────────────────┤\n",
              "│ conv2d_3 (\u001b[38;5;33mConv2D\u001b[0m)                    │ (\u001b[38;5;45mNone\u001b[0m, \u001b[38;5;34m112\u001b[0m, \u001b[38;5;34m112\u001b[0m, \u001b[38;5;34m64\u001b[0m)        │          \u001b[38;5;34m36,928\u001b[0m │\n",
              "├──────────────────────────────────────┼─────────────────────────────┼─────────────────┤\n",
              "│ batch_normalization_3                │ (\u001b[38;5;45mNone\u001b[0m, \u001b[38;5;34m112\u001b[0m, \u001b[38;5;34m112\u001b[0m, \u001b[38;5;34m64\u001b[0m)        │             \u001b[38;5;34m256\u001b[0m │\n",
              "│ (\u001b[38;5;33mBatchNormalization\u001b[0m)                 │                             │                 │\n",
              "├──────────────────────────────────────┼─────────────────────────────┼─────────────────┤\n",
              "│ max_pooling2d_1 (\u001b[38;5;33mMaxPooling2D\u001b[0m)       │ (\u001b[38;5;45mNone\u001b[0m, \u001b[38;5;34m56\u001b[0m, \u001b[38;5;34m56\u001b[0m, \u001b[38;5;34m64\u001b[0m)          │               \u001b[38;5;34m0\u001b[0m │\n",
              "├──────────────────────────────────────┼─────────────────────────────┼─────────────────┤\n",
              "│ dropout_1 (\u001b[38;5;33mDropout\u001b[0m)                  │ (\u001b[38;5;45mNone\u001b[0m, \u001b[38;5;34m56\u001b[0m, \u001b[38;5;34m56\u001b[0m, \u001b[38;5;34m64\u001b[0m)          │               \u001b[38;5;34m0\u001b[0m │\n",
              "├──────────────────────────────────────┼─────────────────────────────┼─────────────────┤\n",
              "│ conv2d_4 (\u001b[38;5;33mConv2D\u001b[0m)                    │ (\u001b[38;5;45mNone\u001b[0m, \u001b[38;5;34m56\u001b[0m, \u001b[38;5;34m56\u001b[0m, \u001b[38;5;34m128\u001b[0m)         │          \u001b[38;5;34m73,856\u001b[0m │\n",
              "├──────────────────────────────────────┼─────────────────────────────┼─────────────────┤\n",
              "│ batch_normalization_4                │ (\u001b[38;5;45mNone\u001b[0m, \u001b[38;5;34m56\u001b[0m, \u001b[38;5;34m56\u001b[0m, \u001b[38;5;34m128\u001b[0m)         │             \u001b[38;5;34m512\u001b[0m │\n",
              "│ (\u001b[38;5;33mBatchNormalization\u001b[0m)                 │                             │                 │\n",
              "├──────────────────────────────────────┼─────────────────────────────┼─────────────────┤\n",
              "│ conv2d_5 (\u001b[38;5;33mConv2D\u001b[0m)                    │ (\u001b[38;5;45mNone\u001b[0m, \u001b[38;5;34m56\u001b[0m, \u001b[38;5;34m56\u001b[0m, \u001b[38;5;34m128\u001b[0m)         │         \u001b[38;5;34m147,584\u001b[0m │\n",
              "├──────────────────────────────────────┼─────────────────────────────┼─────────────────┤\n",
              "│ batch_normalization_5                │ (\u001b[38;5;45mNone\u001b[0m, \u001b[38;5;34m56\u001b[0m, \u001b[38;5;34m56\u001b[0m, \u001b[38;5;34m128\u001b[0m)         │             \u001b[38;5;34m512\u001b[0m │\n",
              "│ (\u001b[38;5;33mBatchNormalization\u001b[0m)                 │                             │                 │\n",
              "├──────────────────────────────────────┼─────────────────────────────┼─────────────────┤\n",
              "│ max_pooling2d_2 (\u001b[38;5;33mMaxPooling2D\u001b[0m)       │ (\u001b[38;5;45mNone\u001b[0m, \u001b[38;5;34m28\u001b[0m, \u001b[38;5;34m28\u001b[0m, \u001b[38;5;34m128\u001b[0m)         │               \u001b[38;5;34m0\u001b[0m │\n",
              "├──────────────────────────────────────┼─────────────────────────────┼─────────────────┤\n",
              "│ dropout_2 (\u001b[38;5;33mDropout\u001b[0m)                  │ (\u001b[38;5;45mNone\u001b[0m, \u001b[38;5;34m28\u001b[0m, \u001b[38;5;34m28\u001b[0m, \u001b[38;5;34m128\u001b[0m)         │               \u001b[38;5;34m0\u001b[0m │\n",
              "├──────────────────────────────────────┼─────────────────────────────┼─────────────────┤\n",
              "│ flatten (\u001b[38;5;33mFlatten\u001b[0m)                    │ (\u001b[38;5;45mNone\u001b[0m, \u001b[38;5;34m100352\u001b[0m)              │               \u001b[38;5;34m0\u001b[0m │\n",
              "├──────────────────────────────────────┼─────────────────────────────┼─────────────────┤\n",
              "│ dense (\u001b[38;5;33mDense\u001b[0m)                        │ (\u001b[38;5;45mNone\u001b[0m, \u001b[38;5;34m512\u001b[0m)                 │      \u001b[38;5;34m51,380,736\u001b[0m │\n",
              "├──────────────────────────────────────┼─────────────────────────────┼─────────────────┤\n",
              "│ batch_normalization_6                │ (\u001b[38;5;45mNone\u001b[0m, \u001b[38;5;34m512\u001b[0m)                 │           \u001b[38;5;34m2,048\u001b[0m │\n",
              "│ (\u001b[38;5;33mBatchNormalization\u001b[0m)                 │                             │                 │\n",
              "├──────────────────────────────────────┼─────────────────────────────┼─────────────────┤\n",
              "│ dropout_3 (\u001b[38;5;33mDropout\u001b[0m)                  │ (\u001b[38;5;45mNone\u001b[0m, \u001b[38;5;34m512\u001b[0m)                 │               \u001b[38;5;34m0\u001b[0m │\n",
              "├──────────────────────────────────────┼─────────────────────────────┼─────────────────┤\n",
              "│ dense_1 (\u001b[38;5;33mDense\u001b[0m)                      │ (\u001b[38;5;45mNone\u001b[0m, \u001b[38;5;34m3\u001b[0m)                   │           \u001b[38;5;34m1,539\u001b[0m │\n",
              "└──────────────────────────────────────┴─────────────────────────────┴─────────────────┘\n"
            ],
            "text/html": [
              "<pre style=\"white-space:pre;overflow-x:auto;line-height:normal;font-family:Menlo,'DejaVu Sans Mono',consolas,'Courier New',monospace\">┏━━━━━━━━━━━━━━━━━━━━━━━━━━━━━━━━━━━━━━┳━━━━━━━━━━━━━━━━━━━━━━━━━━━━━┳━━━━━━━━━━━━━━━━━┓\n",
              "┃<span style=\"font-weight: bold\"> Layer (type)                         </span>┃<span style=\"font-weight: bold\"> Output Shape                </span>┃<span style=\"font-weight: bold\">         Param # </span>┃\n",
              "┡━━━━━━━━━━━━━━━━━━━━━━━━━━━━━━━━━━━━━━╇━━━━━━━━━━━━━━━━━━━━━━━━━━━━━╇━━━━━━━━━━━━━━━━━┩\n",
              "│ conv2d (<span style=\"color: #0087ff; text-decoration-color: #0087ff\">Conv2D</span>)                      │ (<span style=\"color: #00d7ff; text-decoration-color: #00d7ff\">None</span>, <span style=\"color: #00af00; text-decoration-color: #00af00\">224</span>, <span style=\"color: #00af00; text-decoration-color: #00af00\">224</span>, <span style=\"color: #00af00; text-decoration-color: #00af00\">32</span>)        │             <span style=\"color: #00af00; text-decoration-color: #00af00\">896</span> │\n",
              "├──────────────────────────────────────┼─────────────────────────────┼─────────────────┤\n",
              "│ batch_normalization                  │ (<span style=\"color: #00d7ff; text-decoration-color: #00d7ff\">None</span>, <span style=\"color: #00af00; text-decoration-color: #00af00\">224</span>, <span style=\"color: #00af00; text-decoration-color: #00af00\">224</span>, <span style=\"color: #00af00; text-decoration-color: #00af00\">32</span>)        │             <span style=\"color: #00af00; text-decoration-color: #00af00\">128</span> │\n",
              "│ (<span style=\"color: #0087ff; text-decoration-color: #0087ff\">BatchNormalization</span>)                 │                             │                 │\n",
              "├──────────────────────────────────────┼─────────────────────────────┼─────────────────┤\n",
              "│ conv2d_1 (<span style=\"color: #0087ff; text-decoration-color: #0087ff\">Conv2D</span>)                    │ (<span style=\"color: #00d7ff; text-decoration-color: #00d7ff\">None</span>, <span style=\"color: #00af00; text-decoration-color: #00af00\">224</span>, <span style=\"color: #00af00; text-decoration-color: #00af00\">224</span>, <span style=\"color: #00af00; text-decoration-color: #00af00\">32</span>)        │           <span style=\"color: #00af00; text-decoration-color: #00af00\">9,248</span> │\n",
              "├──────────────────────────────────────┼─────────────────────────────┼─────────────────┤\n",
              "│ batch_normalization_1                │ (<span style=\"color: #00d7ff; text-decoration-color: #00d7ff\">None</span>, <span style=\"color: #00af00; text-decoration-color: #00af00\">224</span>, <span style=\"color: #00af00; text-decoration-color: #00af00\">224</span>, <span style=\"color: #00af00; text-decoration-color: #00af00\">32</span>)        │             <span style=\"color: #00af00; text-decoration-color: #00af00\">128</span> │\n",
              "│ (<span style=\"color: #0087ff; text-decoration-color: #0087ff\">BatchNormalization</span>)                 │                             │                 │\n",
              "├──────────────────────────────────────┼─────────────────────────────┼─────────────────┤\n",
              "│ max_pooling2d (<span style=\"color: #0087ff; text-decoration-color: #0087ff\">MaxPooling2D</span>)         │ (<span style=\"color: #00d7ff; text-decoration-color: #00d7ff\">None</span>, <span style=\"color: #00af00; text-decoration-color: #00af00\">112</span>, <span style=\"color: #00af00; text-decoration-color: #00af00\">112</span>, <span style=\"color: #00af00; text-decoration-color: #00af00\">32</span>)        │               <span style=\"color: #00af00; text-decoration-color: #00af00\">0</span> │\n",
              "├──────────────────────────────────────┼─────────────────────────────┼─────────────────┤\n",
              "│ dropout (<span style=\"color: #0087ff; text-decoration-color: #0087ff\">Dropout</span>)                    │ (<span style=\"color: #00d7ff; text-decoration-color: #00d7ff\">None</span>, <span style=\"color: #00af00; text-decoration-color: #00af00\">112</span>, <span style=\"color: #00af00; text-decoration-color: #00af00\">112</span>, <span style=\"color: #00af00; text-decoration-color: #00af00\">32</span>)        │               <span style=\"color: #00af00; text-decoration-color: #00af00\">0</span> │\n",
              "├──────────────────────────────────────┼─────────────────────────────┼─────────────────┤\n",
              "│ conv2d_2 (<span style=\"color: #0087ff; text-decoration-color: #0087ff\">Conv2D</span>)                    │ (<span style=\"color: #00d7ff; text-decoration-color: #00d7ff\">None</span>, <span style=\"color: #00af00; text-decoration-color: #00af00\">112</span>, <span style=\"color: #00af00; text-decoration-color: #00af00\">112</span>, <span style=\"color: #00af00; text-decoration-color: #00af00\">64</span>)        │          <span style=\"color: #00af00; text-decoration-color: #00af00\">18,496</span> │\n",
              "├──────────────────────────────────────┼─────────────────────────────┼─────────────────┤\n",
              "│ batch_normalization_2                │ (<span style=\"color: #00d7ff; text-decoration-color: #00d7ff\">None</span>, <span style=\"color: #00af00; text-decoration-color: #00af00\">112</span>, <span style=\"color: #00af00; text-decoration-color: #00af00\">112</span>, <span style=\"color: #00af00; text-decoration-color: #00af00\">64</span>)        │             <span style=\"color: #00af00; text-decoration-color: #00af00\">256</span> │\n",
              "│ (<span style=\"color: #0087ff; text-decoration-color: #0087ff\">BatchNormalization</span>)                 │                             │                 │\n",
              "├──────────────────────────────────────┼─────────────────────────────┼─────────────────┤\n",
              "│ conv2d_3 (<span style=\"color: #0087ff; text-decoration-color: #0087ff\">Conv2D</span>)                    │ (<span style=\"color: #00d7ff; text-decoration-color: #00d7ff\">None</span>, <span style=\"color: #00af00; text-decoration-color: #00af00\">112</span>, <span style=\"color: #00af00; text-decoration-color: #00af00\">112</span>, <span style=\"color: #00af00; text-decoration-color: #00af00\">64</span>)        │          <span style=\"color: #00af00; text-decoration-color: #00af00\">36,928</span> │\n",
              "├──────────────────────────────────────┼─────────────────────────────┼─────────────────┤\n",
              "│ batch_normalization_3                │ (<span style=\"color: #00d7ff; text-decoration-color: #00d7ff\">None</span>, <span style=\"color: #00af00; text-decoration-color: #00af00\">112</span>, <span style=\"color: #00af00; text-decoration-color: #00af00\">112</span>, <span style=\"color: #00af00; text-decoration-color: #00af00\">64</span>)        │             <span style=\"color: #00af00; text-decoration-color: #00af00\">256</span> │\n",
              "│ (<span style=\"color: #0087ff; text-decoration-color: #0087ff\">BatchNormalization</span>)                 │                             │                 │\n",
              "├──────────────────────────────────────┼─────────────────────────────┼─────────────────┤\n",
              "│ max_pooling2d_1 (<span style=\"color: #0087ff; text-decoration-color: #0087ff\">MaxPooling2D</span>)       │ (<span style=\"color: #00d7ff; text-decoration-color: #00d7ff\">None</span>, <span style=\"color: #00af00; text-decoration-color: #00af00\">56</span>, <span style=\"color: #00af00; text-decoration-color: #00af00\">56</span>, <span style=\"color: #00af00; text-decoration-color: #00af00\">64</span>)          │               <span style=\"color: #00af00; text-decoration-color: #00af00\">0</span> │\n",
              "├──────────────────────────────────────┼─────────────────────────────┼─────────────────┤\n",
              "│ dropout_1 (<span style=\"color: #0087ff; text-decoration-color: #0087ff\">Dropout</span>)                  │ (<span style=\"color: #00d7ff; text-decoration-color: #00d7ff\">None</span>, <span style=\"color: #00af00; text-decoration-color: #00af00\">56</span>, <span style=\"color: #00af00; text-decoration-color: #00af00\">56</span>, <span style=\"color: #00af00; text-decoration-color: #00af00\">64</span>)          │               <span style=\"color: #00af00; text-decoration-color: #00af00\">0</span> │\n",
              "├──────────────────────────────────────┼─────────────────────────────┼─────────────────┤\n",
              "│ conv2d_4 (<span style=\"color: #0087ff; text-decoration-color: #0087ff\">Conv2D</span>)                    │ (<span style=\"color: #00d7ff; text-decoration-color: #00d7ff\">None</span>, <span style=\"color: #00af00; text-decoration-color: #00af00\">56</span>, <span style=\"color: #00af00; text-decoration-color: #00af00\">56</span>, <span style=\"color: #00af00; text-decoration-color: #00af00\">128</span>)         │          <span style=\"color: #00af00; text-decoration-color: #00af00\">73,856</span> │\n",
              "├──────────────────────────────────────┼─────────────────────────────┼─────────────────┤\n",
              "│ batch_normalization_4                │ (<span style=\"color: #00d7ff; text-decoration-color: #00d7ff\">None</span>, <span style=\"color: #00af00; text-decoration-color: #00af00\">56</span>, <span style=\"color: #00af00; text-decoration-color: #00af00\">56</span>, <span style=\"color: #00af00; text-decoration-color: #00af00\">128</span>)         │             <span style=\"color: #00af00; text-decoration-color: #00af00\">512</span> │\n",
              "│ (<span style=\"color: #0087ff; text-decoration-color: #0087ff\">BatchNormalization</span>)                 │                             │                 │\n",
              "├──────────────────────────────────────┼─────────────────────────────┼─────────────────┤\n",
              "│ conv2d_5 (<span style=\"color: #0087ff; text-decoration-color: #0087ff\">Conv2D</span>)                    │ (<span style=\"color: #00d7ff; text-decoration-color: #00d7ff\">None</span>, <span style=\"color: #00af00; text-decoration-color: #00af00\">56</span>, <span style=\"color: #00af00; text-decoration-color: #00af00\">56</span>, <span style=\"color: #00af00; text-decoration-color: #00af00\">128</span>)         │         <span style=\"color: #00af00; text-decoration-color: #00af00\">147,584</span> │\n",
              "├──────────────────────────────────────┼─────────────────────────────┼─────────────────┤\n",
              "│ batch_normalization_5                │ (<span style=\"color: #00d7ff; text-decoration-color: #00d7ff\">None</span>, <span style=\"color: #00af00; text-decoration-color: #00af00\">56</span>, <span style=\"color: #00af00; text-decoration-color: #00af00\">56</span>, <span style=\"color: #00af00; text-decoration-color: #00af00\">128</span>)         │             <span style=\"color: #00af00; text-decoration-color: #00af00\">512</span> │\n",
              "│ (<span style=\"color: #0087ff; text-decoration-color: #0087ff\">BatchNormalization</span>)                 │                             │                 │\n",
              "├──────────────────────────────────────┼─────────────────────────────┼─────────────────┤\n",
              "│ max_pooling2d_2 (<span style=\"color: #0087ff; text-decoration-color: #0087ff\">MaxPooling2D</span>)       │ (<span style=\"color: #00d7ff; text-decoration-color: #00d7ff\">None</span>, <span style=\"color: #00af00; text-decoration-color: #00af00\">28</span>, <span style=\"color: #00af00; text-decoration-color: #00af00\">28</span>, <span style=\"color: #00af00; text-decoration-color: #00af00\">128</span>)         │               <span style=\"color: #00af00; text-decoration-color: #00af00\">0</span> │\n",
              "├──────────────────────────────────────┼─────────────────────────────┼─────────────────┤\n",
              "│ dropout_2 (<span style=\"color: #0087ff; text-decoration-color: #0087ff\">Dropout</span>)                  │ (<span style=\"color: #00d7ff; text-decoration-color: #00d7ff\">None</span>, <span style=\"color: #00af00; text-decoration-color: #00af00\">28</span>, <span style=\"color: #00af00; text-decoration-color: #00af00\">28</span>, <span style=\"color: #00af00; text-decoration-color: #00af00\">128</span>)         │               <span style=\"color: #00af00; text-decoration-color: #00af00\">0</span> │\n",
              "├──────────────────────────────────────┼─────────────────────────────┼─────────────────┤\n",
              "│ flatten (<span style=\"color: #0087ff; text-decoration-color: #0087ff\">Flatten</span>)                    │ (<span style=\"color: #00d7ff; text-decoration-color: #00d7ff\">None</span>, <span style=\"color: #00af00; text-decoration-color: #00af00\">100352</span>)              │               <span style=\"color: #00af00; text-decoration-color: #00af00\">0</span> │\n",
              "├──────────────────────────────────────┼─────────────────────────────┼─────────────────┤\n",
              "│ dense (<span style=\"color: #0087ff; text-decoration-color: #0087ff\">Dense</span>)                        │ (<span style=\"color: #00d7ff; text-decoration-color: #00d7ff\">None</span>, <span style=\"color: #00af00; text-decoration-color: #00af00\">512</span>)                 │      <span style=\"color: #00af00; text-decoration-color: #00af00\">51,380,736</span> │\n",
              "├──────────────────────────────────────┼─────────────────────────────┼─────────────────┤\n",
              "│ batch_normalization_6                │ (<span style=\"color: #00d7ff; text-decoration-color: #00d7ff\">None</span>, <span style=\"color: #00af00; text-decoration-color: #00af00\">512</span>)                 │           <span style=\"color: #00af00; text-decoration-color: #00af00\">2,048</span> │\n",
              "│ (<span style=\"color: #0087ff; text-decoration-color: #0087ff\">BatchNormalization</span>)                 │                             │                 │\n",
              "├──────────────────────────────────────┼─────────────────────────────┼─────────────────┤\n",
              "│ dropout_3 (<span style=\"color: #0087ff; text-decoration-color: #0087ff\">Dropout</span>)                  │ (<span style=\"color: #00d7ff; text-decoration-color: #00d7ff\">None</span>, <span style=\"color: #00af00; text-decoration-color: #00af00\">512</span>)                 │               <span style=\"color: #00af00; text-decoration-color: #00af00\">0</span> │\n",
              "├──────────────────────────────────────┼─────────────────────────────┼─────────────────┤\n",
              "│ dense_1 (<span style=\"color: #0087ff; text-decoration-color: #0087ff\">Dense</span>)                      │ (<span style=\"color: #00d7ff; text-decoration-color: #00d7ff\">None</span>, <span style=\"color: #00af00; text-decoration-color: #00af00\">3</span>)                   │           <span style=\"color: #00af00; text-decoration-color: #00af00\">1,539</span> │\n",
              "└──────────────────────────────────────┴─────────────────────────────┴─────────────────┘\n",
              "</pre>\n"
            ]
          },
          "metadata": {}
        },
        {
          "output_type": "display_data",
          "data": {
            "text/plain": [
              "\u001b[1m Total params: \u001b[0m\u001b[38;5;34m51,673,123\u001b[0m (197.12 MB)\n"
            ],
            "text/html": [
              "<pre style=\"white-space:pre;overflow-x:auto;line-height:normal;font-family:Menlo,'DejaVu Sans Mono',consolas,'Courier New',monospace\"><span style=\"font-weight: bold\"> Total params: </span><span style=\"color: #00af00; text-decoration-color: #00af00\">51,673,123</span> (197.12 MB)\n",
              "</pre>\n"
            ]
          },
          "metadata": {}
        },
        {
          "output_type": "display_data",
          "data": {
            "text/plain": [
              "\u001b[1m Trainable params: \u001b[0m\u001b[38;5;34m51,671,203\u001b[0m (197.11 MB)\n"
            ],
            "text/html": [
              "<pre style=\"white-space:pre;overflow-x:auto;line-height:normal;font-family:Menlo,'DejaVu Sans Mono',consolas,'Courier New',monospace\"><span style=\"font-weight: bold\"> Trainable params: </span><span style=\"color: #00af00; text-decoration-color: #00af00\">51,671,203</span> (197.11 MB)\n",
              "</pre>\n"
            ]
          },
          "metadata": {}
        },
        {
          "output_type": "display_data",
          "data": {
            "text/plain": [
              "\u001b[1m Non-trainable params: \u001b[0m\u001b[38;5;34m1,920\u001b[0m (7.50 KB)\n"
            ],
            "text/html": [
              "<pre style=\"white-space:pre;overflow-x:auto;line-height:normal;font-family:Menlo,'DejaVu Sans Mono',consolas,'Courier New',monospace\"><span style=\"font-weight: bold\"> Non-trainable params: </span><span style=\"color: #00af00; text-decoration-color: #00af00\">1,920</span> (7.50 KB)\n",
              "</pre>\n"
            ]
          },
          "metadata": {}
        }
      ]
    },
    {
      "cell_type": "code",
      "source": [
        "# Define callbacks for early stopping and model checkpoint\n",
        "from tensorflow.keras.callbacks import EarlyStopping, ModelCheckpoint\n",
        "\n",
        "# Define callbacks for early stopping and saving the best model\n",
        "callbacks = [\n",
        "    EarlyStopping(patience=10, restore_best_weights=True),\n",
        "    ModelCheckpoint('face_touch_model.h5', save_best_only=True)\n",
        "]\n",
        "\n",
        "# Train the model using the data generators\n",
        "history = model.fit(\n",
        "    train_generator,  # Training data generator\n",
        "    epochs=50,  # You can adjust the number of epochs based on your dataset and training time\n",
        "    validation_data=valid_generator,  # Validation data generator\n",
        "    callbacks=callbacks,  # Early stopping and checkpointing\n",
        "    verbose=1\n",
        ")\n",
        "\n",
        "\n",
        "# Evaluate the model on the test set\n",
        "test_loss, test_acc = model.evaluate(test_generator, verbose=1)\n",
        "print(f\"Test accuracy: {test_acc}\")\n",
        "\n",
        "# Save the final model\n",
        "model.save('face_touch_final_model.h5')"
      ],
      "metadata": {
        "id": "vRbRz5hHdM1m",
        "colab": {
          "base_uri": "https://localhost:8080/"
        },
        "outputId": "27474104-5202-46a3-bdf6-33009f3acec7"
      },
      "execution_count": null,
      "outputs": [
        {
          "output_type": "stream",
          "name": "stderr",
          "text": [
            "/usr/local/lib/python3.11/dist-packages/keras/src/trainers/data_adapters/py_dataset_adapter.py:121: UserWarning: Your `PyDataset` class should call `super().__init__(**kwargs)` in its constructor. `**kwargs` can include `workers`, `use_multiprocessing`, `max_queue_size`. Do not pass these arguments to `fit()`, as they will be ignored.\n",
            "  self._warn_if_super_not_called()\n"
          ]
        },
        {
          "output_type": "stream",
          "name": "stdout",
          "text": [
            "Epoch 1/50\n",
            "\u001b[1m506/506\u001b[0m \u001b[32m━━━━━━━━━━━━━━━━━━━━\u001b[0m\u001b[37m\u001b[0m \u001b[1m0s\u001b[0m 474ms/step - accuracy: 0.4113 - loss: 1.5117"
          ]
        },
        {
          "output_type": "stream",
          "name": "stderr",
          "text": [
            "WARNING:absl:You are saving your model as an HDF5 file via `model.save()` or `keras.saving.save_model(model)`. This file format is considered legacy. We recommend using instead the native Keras format, e.g. `model.save('my_model.keras')` or `keras.saving.save_model(model, 'my_model.keras')`. \n"
          ]
        },
        {
          "output_type": "stream",
          "name": "stdout",
          "text": [
            "\b\b\b\b\b\b\b\b\b\b\b\b\b\b\b\b\b\b\b\b\b\b\b\b\b\b\b\b\b\b\b\b\b\b\b\b\b\b\b\b\b\b\b\b\b\b\b\b\b\b\b\b\b\b\b\b\b\b\b\b\b\b\b\b\b\b\b\b\b\b\b\b\b\b\b\b\r\u001b[1m506/506\u001b[0m \u001b[32m━━━━━━━━━━━━━━━━━━━━\u001b[0m\u001b[37m\u001b[0m \u001b[1m280s\u001b[0m 507ms/step - accuracy: 0.4114 - loss: 1.5112 - val_accuracy: 0.4708 - val_loss: 1.0361\n",
            "Epoch 2/50\n",
            "\u001b[1m506/506\u001b[0m \u001b[32m━━━━━━━━━━━━━━━━━━━━\u001b[0m\u001b[37m\u001b[0m \u001b[1m0s\u001b[0m 471ms/step - accuracy: 0.5565 - loss: 0.9398"
          ]
        },
        {
          "output_type": "stream",
          "name": "stderr",
          "text": [
            "WARNING:absl:You are saving your model as an HDF5 file via `model.save()` or `keras.saving.save_model(model)`. This file format is considered legacy. We recommend using instead the native Keras format, e.g. `model.save('my_model.keras')` or `keras.saving.save_model(model, 'my_model.keras')`. \n"
          ]
        },
        {
          "output_type": "stream",
          "name": "stdout",
          "text": [
            "\b\b\b\b\b\b\b\b\b\b\b\b\b\b\b\b\b\b\b\b\b\b\b\b\b\b\b\b\b\b\b\b\b\b\b\b\b\b\b\b\b\b\b\b\b\b\b\b\b\b\b\b\b\b\b\b\b\b\b\b\b\b\b\b\b\b\b\b\b\b\b\b\b\b\b\b\r\u001b[1m506/506\u001b[0m \u001b[32m━━━━━━━━━━━━━━━━━━━━\u001b[0m\u001b[37m\u001b[0m \u001b[1m251s\u001b[0m 495ms/step - accuracy: 0.5565 - loss: 0.9398 - val_accuracy: 0.5694 - val_loss: 0.9029\n",
            "Epoch 3/50\n",
            "\u001b[1m506/506\u001b[0m \u001b[32m━━━━━━━━━━━━━━━━━━━━\u001b[0m\u001b[37m\u001b[0m \u001b[1m0s\u001b[0m 468ms/step - accuracy: 0.6085 - loss: 0.8392"
          ]
        },
        {
          "output_type": "stream",
          "name": "stderr",
          "text": [
            "WARNING:absl:You are saving your model as an HDF5 file via `model.save()` or `keras.saving.save_model(model)`. This file format is considered legacy. We recommend using instead the native Keras format, e.g. `model.save('my_model.keras')` or `keras.saving.save_model(model, 'my_model.keras')`. \n"
          ]
        },
        {
          "output_type": "stream",
          "name": "stdout",
          "text": [
            "\b\b\b\b\b\b\b\b\b\b\b\b\b\b\b\b\b\b\b\b\b\b\b\b\b\b\b\b\b\b\b\b\b\b\b\b\b\b\b\b\b\b\b\b\b\b\b\b\b\b\b\b\b\b\b\b\b\b\b\b\b\b\b\b\b\b\b\b\b\b\b\b\b\b\b\b\r\u001b[1m506/506\u001b[0m \u001b[32m━━━━━━━━━━━━━━━━━━━━\u001b[0m\u001b[37m\u001b[0m \u001b[1m246s\u001b[0m 485ms/step - accuracy: 0.6085 - loss: 0.8391 - val_accuracy: 0.6591 - val_loss: 0.8560\n",
            "Epoch 4/50\n",
            "\u001b[1m506/506\u001b[0m \u001b[32m━━━━━━━━━━━━━━━━━━━━\u001b[0m\u001b[37m\u001b[0m \u001b[1m0s\u001b[0m 495ms/step - accuracy: 0.6689 - loss: 0.7306"
          ]
        },
        {
          "output_type": "stream",
          "name": "stderr",
          "text": [
            "WARNING:absl:You are saving your model as an HDF5 file via `model.save()` or `keras.saving.save_model(model)`. This file format is considered legacy. We recommend using instead the native Keras format, e.g. `model.save('my_model.keras')` or `keras.saving.save_model(model, 'my_model.keras')`. \n"
          ]
        },
        {
          "output_type": "stream",
          "name": "stdout",
          "text": [
            "\b\b\b\b\b\b\b\b\b\b\b\b\b\b\b\b\b\b\b\b\b\b\b\b\b\b\b\b\b\b\b\b\b\b\b\b\b\b\b\b\b\b\b\b\b\b\b\b\b\b\b\b\b\b\b\b\b\b\b\b\b\b\b\b\b\b\b\b\b\b\b\b\b\b\b\b\r\u001b[1m506/506\u001b[0m \u001b[32m━━━━━━━━━━━━━━━━━━━━\u001b[0m\u001b[37m\u001b[0m \u001b[1m261s\u001b[0m 516ms/step - accuracy: 0.6690 - loss: 0.7306 - val_accuracy: 0.7616 - val_loss: 0.5527\n",
            "Epoch 5/50\n",
            "\u001b[1m506/506\u001b[0m \u001b[32m━━━━━━━━━━━━━━━━━━━━\u001b[0m\u001b[37m\u001b[0m \u001b[1m261s\u001b[0m 517ms/step - accuracy: 0.6672 - loss: 0.7486 - val_accuracy: 0.6283 - val_loss: 1.0410\n",
            "Epoch 6/50\n",
            "\u001b[1m506/506\u001b[0m \u001b[32m━━━━━━━━━━━━━━━━━━━━\u001b[0m\u001b[37m\u001b[0m \u001b[1m247s\u001b[0m 487ms/step - accuracy: 0.7308 - loss: 0.6198 - val_accuracy: 0.6075 - val_loss: 1.2029\n",
            "Epoch 7/50\n",
            "\u001b[1m506/506\u001b[0m \u001b[32m━━━━━━━━━━━━━━━━━━━━\u001b[0m\u001b[37m\u001b[0m \u001b[1m0s\u001b[0m 487ms/step - accuracy: 0.7602 - loss: 0.5622"
          ]
        },
        {
          "output_type": "stream",
          "name": "stderr",
          "text": [
            "WARNING:absl:You are saving your model as an HDF5 file via `model.save()` or `keras.saving.save_model(model)`. This file format is considered legacy. We recommend using instead the native Keras format, e.g. `model.save('my_model.keras')` or `keras.saving.save_model(model, 'my_model.keras')`. \n"
          ]
        },
        {
          "output_type": "stream",
          "name": "stdout",
          "text": [
            "\b\b\b\b\b\b\b\b\b\b\b\b\b\b\b\b\b\b\b\b\b\b\b\b\b\b\b\b\b\b\b\b\b\b\b\b\b\b\b\b\b\b\b\b\b\b\b\b\b\b\b\b\b\b\b\b\b\b\b\b\b\b\b\b\b\b\b\b\b\b\b\b\b\b\b\b\r\u001b[1m506/506\u001b[0m \u001b[32m━━━━━━━━━━━━━━━━━━━━\u001b[0m\u001b[37m\u001b[0m \u001b[1m270s\u001b[0m 503ms/step - accuracy: 0.7602 - loss: 0.5622 - val_accuracy: 0.8766 - val_loss: 0.3529\n",
            "Epoch 8/50\n",
            "\u001b[1m506/506\u001b[0m \u001b[32m━━━━━━━━━━━━━━━━━━━━\u001b[0m\u001b[37m\u001b[0m \u001b[1m253s\u001b[0m 487ms/step - accuracy: 0.7838 - loss: 0.5113 - val_accuracy: 0.4425 - val_loss: 2.8049\n",
            "Epoch 9/50\n",
            "\u001b[1m506/506\u001b[0m \u001b[32m━━━━━━━━━━━━━━━━━━━━\u001b[0m\u001b[37m\u001b[0m \u001b[1m254s\u001b[0m 501ms/step - accuracy: 0.7598 - loss: 0.5574 - val_accuracy: 0.7081 - val_loss: 0.6944\n",
            "Epoch 10/50\n",
            "\u001b[1m506/506\u001b[0m \u001b[32m━━━━━━━━━━━━━━━━━━━━\u001b[0m\u001b[37m\u001b[0m \u001b[1m226s\u001b[0m 448ms/step - accuracy: 0.8093 - loss: 0.4588 - val_accuracy: 0.7671 - val_loss: 0.5667\n",
            "Epoch 11/50\n",
            "\u001b[1m506/506\u001b[0m \u001b[32m━━━━━━━━━━━━━━━━━━━━\u001b[0m\u001b[37m\u001b[0m \u001b[1m216s\u001b[0m 426ms/step - accuracy: 0.8356 - loss: 0.4014 - val_accuracy: 0.8137 - val_loss: 0.4654\n",
            "Epoch 12/50\n",
            "\u001b[1m506/506\u001b[0m \u001b[32m━━━━━━━━━━━━━━━━━━━━\u001b[0m\u001b[37m\u001b[0m \u001b[1m215s\u001b[0m 425ms/step - accuracy: 0.8207 - loss: 0.4365 - val_accuracy: 0.6442 - val_loss: 0.6872\n",
            "Epoch 13/50\n",
            "\u001b[1m506/506\u001b[0m \u001b[32m━━━━━━━━━━━━━━━━━━━━\u001b[0m\u001b[37m\u001b[0m \u001b[1m0s\u001b[0m 424ms/step - accuracy: 0.8073 - loss: 0.4631"
          ]
        },
        {
          "output_type": "stream",
          "name": "stderr",
          "text": [
            "WARNING:absl:You are saving your model as an HDF5 file via `model.save()` or `keras.saving.save_model(model)`. This file format is considered legacy. We recommend using instead the native Keras format, e.g. `model.save('my_model.keras')` or `keras.saving.save_model(model, 'my_model.keras')`. \n"
          ]
        },
        {
          "output_type": "stream",
          "name": "stdout",
          "text": [
            "\b\b\b\b\b\b\b\b\b\b\b\b\b\b\b\b\b\b\b\b\b\b\b\b\b\b\b\b\b\b\b\b\b\b\b\b\b\b\b\b\b\b\b\b\b\b\b\b\b\b\b\b\b\b\b\b\b\b\b\b\b\b\b\b\b\b\b\b\b\b\b\b\b\b\b\b\r\u001b[1m506/506\u001b[0m \u001b[32m━━━━━━━━━━━━━━━━━━━━\u001b[0m\u001b[37m\u001b[0m \u001b[1m227s\u001b[0m 448ms/step - accuracy: 0.8074 - loss: 0.4630 - val_accuracy: 0.8964 - val_loss: 0.2258\n",
            "Epoch 14/50\n",
            "\u001b[1m506/506\u001b[0m \u001b[32m━━━━━━━━━━━━━━━━━━━━\u001b[0m\u001b[37m\u001b[0m \u001b[1m216s\u001b[0m 427ms/step - accuracy: 0.8356 - loss: 0.4008 - val_accuracy: 0.7839 - val_loss: 0.5075\n",
            "Epoch 15/50\n",
            "\u001b[1m506/506\u001b[0m \u001b[32m━━━━━━━━━━━━━━━━━━━━\u001b[0m\u001b[37m\u001b[0m \u001b[1m262s\u001b[0m 428ms/step - accuracy: 0.8370 - loss: 0.3986 - val_accuracy: 0.7696 - val_loss: 0.5465\n",
            "Epoch 16/50\n",
            "\u001b[1m506/506\u001b[0m \u001b[32m━━━━━━━━━━━━━━━━━━━━\u001b[0m\u001b[37m\u001b[0m \u001b[1m0s\u001b[0m 417ms/step - accuracy: 0.8272 - loss: 0.4149"
          ]
        },
        {
          "output_type": "stream",
          "name": "stderr",
          "text": [
            "WARNING:absl:You are saving your model as an HDF5 file via `model.save()` or `keras.saving.save_model(model)`. This file format is considered legacy. We recommend using instead the native Keras format, e.g. `model.save('my_model.keras')` or `keras.saving.save_model(model, 'my_model.keras')`. \n"
          ]
        },
        {
          "output_type": "stream",
          "name": "stdout",
          "text": [
            "\b\b\b\b\b\b\b\b\b\b\b\b\b\b\b\b\b\b\b\b\b\b\b\b\b\b\b\b\b\b\b\b\b\b\b\b\b\b\b\b\b\b\b\b\b\b\b\b\b\b\b\b\b\b\b\b\b\b\b\b\b\b\b\b\b\b\b\b\b\b\b\b\b\b\b\b\r\u001b[1m506/506\u001b[0m \u001b[32m━━━━━━━━━━━━━━━━━━━━\u001b[0m\u001b[37m\u001b[0m \u001b[1m218s\u001b[0m 430ms/step - accuracy: 0.8273 - loss: 0.4149 - val_accuracy: 0.9301 - val_loss: 0.2013\n",
            "Epoch 17/50\n",
            "\u001b[1m506/506\u001b[0m \u001b[32m━━━━━━━━━━━━━━━━━━━━\u001b[0m\u001b[37m\u001b[0m \u001b[1m261s\u001b[0m 428ms/step - accuracy: 0.7812 - loss: 0.5286 - val_accuracy: 0.6665 - val_loss: 0.7612\n",
            "Epoch 18/50\n",
            "\u001b[1m506/506\u001b[0m \u001b[32m━━━━━━━━━━━━━━━━━━━━\u001b[0m\u001b[37m\u001b[0m \u001b[1m218s\u001b[0m 430ms/step - accuracy: 0.7600 - loss: 0.5627 - val_accuracy: 0.9039 - val_loss: 0.2406\n",
            "Epoch 19/50\n",
            "\u001b[1m506/506\u001b[0m \u001b[32m━━━━━━━━━━━━━━━━━━━━\u001b[0m\u001b[37m\u001b[0m \u001b[1m0s\u001b[0m 426ms/step - accuracy: 0.8160 - loss: 0.4349"
          ]
        },
        {
          "output_type": "stream",
          "name": "stderr",
          "text": [
            "WARNING:absl:You are saving your model as an HDF5 file via `model.save()` or `keras.saving.save_model(model)`. This file format is considered legacy. We recommend using instead the native Keras format, e.g. `model.save('my_model.keras')` or `keras.saving.save_model(model, 'my_model.keras')`. \n"
          ]
        },
        {
          "output_type": "stream",
          "name": "stdout",
          "text": [
            "\b\b\b\b\b\b\b\b\b\b\b\b\b\b\b\b\b\b\b\b\b\b\b\b\b\b\b\b\b\b\b\b\b\b\b\b\b\b\b\b\b\b\b\b\b\b\b\b\b\b\b\b\b\b\b\b\b\b\b\b\b\b\b\b\b\b\b\b\b\b\b\b\b\b\b\b\r\u001b[1m506/506\u001b[0m \u001b[32m━━━━━━━━━━━━━━━━━━━━\u001b[0m\u001b[37m\u001b[0m \u001b[1m231s\u001b[0m 456ms/step - accuracy: 0.8160 - loss: 0.4349 - val_accuracy: 0.9450 - val_loss: 0.1600\n",
            "Epoch 20/50\n",
            "\u001b[1m506/506\u001b[0m \u001b[32m━━━━━━━━━━━━━━━━━━━━\u001b[0m\u001b[37m\u001b[0m \u001b[1m221s\u001b[0m 436ms/step - accuracy: 0.8348 - loss: 0.3797 - val_accuracy: 0.9277 - val_loss: 0.1678\n",
            "Epoch 21/50\n",
            "\u001b[1m506/506\u001b[0m \u001b[32m━━━━━━━━━━━━━━━━━━━━\u001b[0m\u001b[37m\u001b[0m \u001b[1m0s\u001b[0m 429ms/step - accuracy: 0.8638 - loss: 0.3318"
          ]
        },
        {
          "output_type": "stream",
          "name": "stderr",
          "text": [
            "WARNING:absl:You are saving your model as an HDF5 file via `model.save()` or `keras.saving.save_model(model)`. This file format is considered legacy. We recommend using instead the native Keras format, e.g. `model.save('my_model.keras')` or `keras.saving.save_model(model, 'my_model.keras')`. \n"
          ]
        },
        {
          "output_type": "stream",
          "name": "stdout",
          "text": [
            "\b\b\b\b\b\b\b\b\b\b\b\b\b\b\b\b\b\b\b\b\b\b\b\b\b\b\b\b\b\b\b\b\b\b\b\b\b\b\b\b\b\b\b\b\b\b\b\b\b\b\b\b\b\b\b\b\b\b\b\b\b\b\b\b\b\b\b\b\b\b\b\b\b\b\b\b\r\u001b[1m506/506\u001b[0m \u001b[32m━━━━━━━━━━━━━━━━━━━━\u001b[0m\u001b[37m\u001b[0m \u001b[1m227s\u001b[0m 448ms/step - accuracy: 0.8638 - loss: 0.3318 - val_accuracy: 0.9509 - val_loss: 0.1351\n",
            "Epoch 22/50\n",
            "\u001b[1m506/506\u001b[0m \u001b[32m━━━━━━━━━━━━━━━━━━━━\u001b[0m\u001b[37m\u001b[0m \u001b[1m217s\u001b[0m 428ms/step - accuracy: 0.8688 - loss: 0.3123 - val_accuracy: 0.9381 - val_loss: 0.1533\n",
            "Epoch 23/50\n",
            "\u001b[1m506/506\u001b[0m \u001b[32m━━━━━━━━━━━━━━━━━━━━\u001b[0m\u001b[37m\u001b[0m \u001b[1m220s\u001b[0m 435ms/step - accuracy: 0.8737 - loss: 0.3064 - val_accuracy: 0.9123 - val_loss: 0.1910\n",
            "Epoch 24/50\n",
            "\u001b[1m506/506\u001b[0m \u001b[32m━━━━━━━━━━━━━━━━━━━━\u001b[0m\u001b[37m\u001b[0m \u001b[1m214s\u001b[0m 423ms/step - accuracy: 0.7786 - loss: 0.5479 - val_accuracy: 0.8974 - val_loss: 0.2438\n",
            "Epoch 25/50\n",
            "\u001b[1m506/506\u001b[0m \u001b[32m━━━━━━━━━━━━━━━━━━━━\u001b[0m\u001b[37m\u001b[0m \u001b[1m216s\u001b[0m 428ms/step - accuracy: 0.8361 - loss: 0.3877 - val_accuracy: 0.6323 - val_loss: 1.0980\n",
            "Epoch 26/50\n",
            "\u001b[1m506/506\u001b[0m \u001b[32m━━━━━━━━━━━━━━━━━━━━\u001b[0m\u001b[37m\u001b[0m \u001b[1m219s\u001b[0m 433ms/step - accuracy: 0.8718 - loss: 0.3075 - val_accuracy: 0.9227 - val_loss: 0.1987\n",
            "Epoch 27/50\n",
            "\u001b[1m506/506\u001b[0m \u001b[32m━━━━━━━━━━━━━━━━━━━━\u001b[0m\u001b[37m\u001b[0m \u001b[1m266s\u001b[0m 440ms/step - accuracy: 0.8808 - loss: 0.2883 - val_accuracy: 0.8196 - val_loss: 0.5847\n",
            "Epoch 28/50\n",
            "\u001b[1m506/506\u001b[0m \u001b[32m━━━━━━━━━━━━━━━━━━━━\u001b[0m\u001b[37m\u001b[0m \u001b[1m0s\u001b[0m 429ms/step - accuracy: 0.8802 - loss: 0.2923"
          ]
        },
        {
          "output_type": "stream",
          "name": "stderr",
          "text": [
            "WARNING:absl:You are saving your model as an HDF5 file via `model.save()` or `keras.saving.save_model(model)`. This file format is considered legacy. We recommend using instead the native Keras format, e.g. `model.save('my_model.keras')` or `keras.saving.save_model(model, 'my_model.keras')`. \n"
          ]
        },
        {
          "output_type": "stream",
          "name": "stdout",
          "text": [
            "\b\b\b\b\b\b\b\b\b\b\b\b\b\b\b\b\b\b\b\b\b\b\b\b\b\b\b\b\b\b\b\b\b\b\b\b\b\b\b\b\b\b\b\b\b\b\b\b\b\b\b\b\b\b\b\b\b\b\b\b\b\b\b\b\b\b\b\b\b\b\b\b\b\b\b\b\r\u001b[1m506/506\u001b[0m \u001b[32m━━━━━━━━━━━━━━━━━━━━\u001b[0m\u001b[37m\u001b[0m \u001b[1m226s\u001b[0m 447ms/step - accuracy: 0.8802 - loss: 0.2923 - val_accuracy: 0.9435 - val_loss: 0.1275\n",
            "Epoch 29/50\n",
            "\u001b[1m506/506\u001b[0m \u001b[32m━━━━━━━━━━━━━━━━━━━━\u001b[0m\u001b[37m\u001b[0m \u001b[1m257s\u001b[0m 436ms/step - accuracy: 0.8919 - loss: 0.2659 - val_accuracy: 0.9440 - val_loss: 0.1406\n",
            "Epoch 30/50\n",
            "\u001b[1m506/506\u001b[0m \u001b[32m━━━━━━━━━━━━━━━━━━━━\u001b[0m\u001b[37m\u001b[0m \u001b[1m0s\u001b[0m 433ms/step - accuracy: 0.8871 - loss: 0.2754"
          ]
        },
        {
          "output_type": "stream",
          "name": "stderr",
          "text": [
            "WARNING:absl:You are saving your model as an HDF5 file via `model.save()` or `keras.saving.save_model(model)`. This file format is considered legacy. We recommend using instead the native Keras format, e.g. `model.save('my_model.keras')` or `keras.saving.save_model(model, 'my_model.keras')`. \n"
          ]
        },
        {
          "output_type": "stream",
          "name": "stdout",
          "text": [
            "\b\b\b\b\b\b\b\b\b\b\b\b\b\b\b\b\b\b\b\b\b\b\b\b\b\b\b\b\b\b\b\b\b\b\b\b\b\b\b\b\b\b\b\b\b\b\b\b\b\b\b\b\b\b\b\b\b\b\b\b\b\b\b\b\b\b\b\b\b\b\b\b\b\b\b\b\r\u001b[1m506/506\u001b[0m \u001b[32m━━━━━━━━━━━━━━━━━━━━\u001b[0m\u001b[37m\u001b[0m \u001b[1m227s\u001b[0m 448ms/step - accuracy: 0.8871 - loss: 0.2754 - val_accuracy: 0.9613 - val_loss: 0.1095\n",
            "Epoch 31/50\n",
            "\u001b[1m506/506\u001b[0m \u001b[32m━━━━━━━━━━━━━━━━━━━━\u001b[0m\u001b[37m\u001b[0m \u001b[1m220s\u001b[0m 433ms/step - accuracy: 0.8901 - loss: 0.2661 - val_accuracy: 0.7914 - val_loss: 0.5136\n",
            "Epoch 32/50\n",
            "\u001b[1m506/506\u001b[0m \u001b[32m━━━━━━━━━━━━━━━━━━━━\u001b[0m\u001b[37m\u001b[0m \u001b[1m217s\u001b[0m 429ms/step - accuracy: 0.8864 - loss: 0.2852 - val_accuracy: 0.9470 - val_loss: 0.1276\n",
            "Epoch 33/50\n",
            "\u001b[1m506/506\u001b[0m \u001b[32m━━━━━━━━━━━━━━━━━━━━\u001b[0m\u001b[37m\u001b[0m \u001b[1m219s\u001b[0m 433ms/step - accuracy: 0.9046 - loss: 0.2321 - val_accuracy: 0.8781 - val_loss: 0.3026\n",
            "Epoch 34/50\n",
            "\u001b[1m506/506\u001b[0m \u001b[32m━━━━━━━━━━━━━━━━━━━━\u001b[0m\u001b[37m\u001b[0m \u001b[1m216s\u001b[0m 427ms/step - accuracy: 0.8819 - loss: 0.2912 - val_accuracy: 0.8692 - val_loss: 0.3116\n",
            "Epoch 35/50\n",
            "\u001b[1m506/506\u001b[0m \u001b[32m━━━━━━━━━━━━━━━━━━━━\u001b[0m\u001b[37m\u001b[0m \u001b[1m223s\u001b[0m 441ms/step - accuracy: 0.8992 - loss: 0.2527 - val_accuracy: 0.9559 - val_loss: 0.1105\n",
            "Epoch 36/50\n",
            "\u001b[1m506/506\u001b[0m \u001b[32m━━━━━━━━━━━━━━━━━━━━\u001b[0m\u001b[37m\u001b[0m \u001b[1m220s\u001b[0m 435ms/step - accuracy: 0.8801 - loss: 0.3051 - val_accuracy: 0.8999 - val_loss: 0.2173\n",
            "Epoch 37/50\n",
            "\u001b[1m506/506\u001b[0m \u001b[32m━━━━━━━━━━━━━━━━━━━━\u001b[0m\u001b[37m\u001b[0m \u001b[1m222s\u001b[0m 440ms/step - accuracy: 0.8952 - loss: 0.2546 - val_accuracy: 0.9192 - val_loss: 0.2077\n",
            "Epoch 38/50\n",
            "\u001b[1m506/506\u001b[0m \u001b[32m━━━━━━━━━━━━━━━━━━━━\u001b[0m\u001b[37m\u001b[0m \u001b[1m220s\u001b[0m 436ms/step - accuracy: 0.8874 - loss: 0.2788 - val_accuracy: 0.9440 - val_loss: 0.1268\n",
            "Epoch 39/50\n",
            "\u001b[1m506/506\u001b[0m \u001b[32m━━━━━━━━━━━━━━━━━━━━\u001b[0m\u001b[37m\u001b[0m \u001b[1m0s\u001b[0m 486ms/step - accuracy: 0.8942 - loss: 0.2627"
          ]
        },
        {
          "output_type": "stream",
          "name": "stderr",
          "text": [
            "WARNING:absl:You are saving your model as an HDF5 file via `model.save()` or `keras.saving.save_model(model)`. This file format is considered legacy. We recommend using instead the native Keras format, e.g. `model.save('my_model.keras')` or `keras.saving.save_model(model, 'my_model.keras')`. \n"
          ]
        },
        {
          "output_type": "stream",
          "name": "stdout",
          "text": [
            "\b\b\b\b\b\b\b\b\b\b\b\b\b\b\b\b\b\b\b\b\b\b\b\b\b\b\b\b\b\b\b\b\b\b\b\b\b\b\b\b\b\b\b\b\b\b\b\b\b\b\b\b\b\b\b\b\b\b\b\b\b\b\b\b\b\b\b\b\b\b\b\b\b\b\b\b\r\u001b[1m506/506\u001b[0m \u001b[32m━━━━━━━━━━━━━━━━━━━━\u001b[0m\u001b[37m\u001b[0m \u001b[1m256s\u001b[0m 505ms/step - accuracy: 0.8942 - loss: 0.2627 - val_accuracy: 0.9604 - val_loss: 0.0893\n",
            "Epoch 40/50\n",
            "\u001b[1m506/506\u001b[0m \u001b[32m━━━━━━━━━━━━━━━━━━━━\u001b[0m\u001b[37m\u001b[0m \u001b[1m217s\u001b[0m 428ms/step - accuracy: 0.8925 - loss: 0.2693 - val_accuracy: 0.9182 - val_loss: 0.1992\n",
            "Epoch 41/50\n",
            "\u001b[1m506/506\u001b[0m \u001b[32m━━━━━━━━━━━━━━━━━━━━\u001b[0m\u001b[37m\u001b[0m \u001b[1m0s\u001b[0m 425ms/step - accuracy: 0.9136 - loss: 0.2266"
          ]
        },
        {
          "output_type": "stream",
          "name": "stderr",
          "text": [
            "WARNING:absl:You are saving your model as an HDF5 file via `model.save()` or `keras.saving.save_model(model)`. This file format is considered legacy. We recommend using instead the native Keras format, e.g. `model.save('my_model.keras')` or `keras.saving.save_model(model, 'my_model.keras')`. \n"
          ]
        },
        {
          "output_type": "stream",
          "name": "stdout",
          "text": [
            "\b\b\b\b\b\b\b\b\b\b\b\b\b\b\b\b\b\b\b\b\b\b\b\b\b\b\b\b\b\b\b\b\b\b\b\b\b\b\b\b\b\b\b\b\b\b\b\b\b\b\b\b\b\b\b\b\b\b\b\b\b\b\b\b\b\b\b\b\b\b\b\b\b\b\b\b\r\u001b[1m506/506\u001b[0m \u001b[32m━━━━━━━━━━━━━━━━━━━━\u001b[0m\u001b[37m\u001b[0m \u001b[1m270s\u001b[0m 445ms/step - accuracy: 0.9136 - loss: 0.2266 - val_accuracy: 0.9648 - val_loss: 0.0860\n",
            "Epoch 42/50\n",
            "\u001b[1m506/506\u001b[0m \u001b[32m━━━━━━━━━━━━━━━━━━━━\u001b[0m\u001b[37m\u001b[0m \u001b[1m214s\u001b[0m 423ms/step - accuracy: 0.8929 - loss: 0.2714 - val_accuracy: 0.9618 - val_loss: 0.0884\n",
            "Epoch 43/50\n",
            "\u001b[1m506/506\u001b[0m \u001b[32m━━━━━━━━━━━━━━━━━━━━\u001b[0m\u001b[37m\u001b[0m \u001b[1m221s\u001b[0m 436ms/step - accuracy: 0.8803 - loss: 0.3006 - val_accuracy: 0.9514 - val_loss: 0.1173\n",
            "Epoch 44/50\n",
            "\u001b[1m506/506\u001b[0m \u001b[32m━━━━━━━━━━━━━━━━━━━━\u001b[0m\u001b[37m\u001b[0m \u001b[1m218s\u001b[0m 431ms/step - accuracy: 0.9079 - loss: 0.2276 - val_accuracy: 0.9460 - val_loss: 0.1208\n",
            "Epoch 45/50\n",
            "\u001b[1m506/506\u001b[0m \u001b[32m━━━━━━━━━━━━━━━━━━━━\u001b[0m\u001b[37m\u001b[0m \u001b[1m0s\u001b[0m 427ms/step - accuracy: 0.9179 - loss: 0.2054"
          ]
        },
        {
          "output_type": "stream",
          "name": "stderr",
          "text": [
            "WARNING:absl:You are saving your model as an HDF5 file via `model.save()` or `keras.saving.save_model(model)`. This file format is considered legacy. We recommend using instead the native Keras format, e.g. `model.save('my_model.keras')` or `keras.saving.save_model(model, 'my_model.keras')`. \n"
          ]
        },
        {
          "output_type": "stream",
          "name": "stdout",
          "text": [
            "\b\b\b\b\b\b\b\b\b\b\b\b\b\b\b\b\b\b\b\b\b\b\b\b\b\b\b\b\b\b\b\b\b\b\b\b\b\b\b\b\b\b\b\b\b\b\b\b\b\b\b\b\b\b\b\b\b\b\b\b\b\b\b\b\b\b\b\b\b\b\b\b\b\b\b\b\r\u001b[1m506/506\u001b[0m \u001b[32m━━━━━━━━━━━━━━━━━━━━\u001b[0m\u001b[37m\u001b[0m \u001b[1m233s\u001b[0m 461ms/step - accuracy: 0.9179 - loss: 0.2054 - val_accuracy: 0.9708 - val_loss: 0.0793\n",
            "Epoch 46/50\n",
            "\u001b[1m506/506\u001b[0m \u001b[32m━━━━━━━━━━━━━━━━━━━━\u001b[0m\u001b[37m\u001b[0m \u001b[1m216s\u001b[0m 426ms/step - accuracy: 0.9240 - loss: 0.1892 - val_accuracy: 0.9529 - val_loss: 0.0941\n",
            "Epoch 47/50\n",
            "\u001b[1m506/506\u001b[0m \u001b[32m━━━━━━━━━━━━━━━━━━━━\u001b[0m\u001b[37m\u001b[0m \u001b[1m0s\u001b[0m 427ms/step - accuracy: 0.9289 - loss: 0.1741"
          ]
        },
        {
          "output_type": "stream",
          "name": "stderr",
          "text": [
            "WARNING:absl:You are saving your model as an HDF5 file via `model.save()` or `keras.saving.save_model(model)`. This file format is considered legacy. We recommend using instead the native Keras format, e.g. `model.save('my_model.keras')` or `keras.saving.save_model(model, 'my_model.keras')`. \n"
          ]
        },
        {
          "output_type": "stream",
          "name": "stdout",
          "text": [
            "\b\b\b\b\b\b\b\b\b\b\b\b\b\b\b\b\b\b\b\b\b\b\b\b\b\b\b\b\b\b\b\b\b\b\b\b\b\b\b\b\b\b\b\b\b\b\b\b\b\b\b\b\b\b\b\b\b\b\b\b\b\b\b\b\b\b\b\b\b\b\b\b\b\b\b\b\r\u001b[1m506/506\u001b[0m \u001b[32m━━━━━━━━━━━━━━━━━━━━\u001b[0m\u001b[37m\u001b[0m \u001b[1m222s\u001b[0m 439ms/step - accuracy: 0.9289 - loss: 0.1741 - val_accuracy: 0.9628 - val_loss: 0.0777\n",
            "Epoch 48/50\n",
            "\u001b[1m506/506\u001b[0m \u001b[32m━━━━━━━━━━━━━━━━━━━━\u001b[0m\u001b[37m\u001b[0m \u001b[1m220s\u001b[0m 434ms/step - accuracy: 0.9222 - loss: 0.1903 - val_accuracy: 0.4098 - val_loss: 2.8640\n",
            "Epoch 49/50\n",
            "\u001b[1m506/506\u001b[0m \u001b[32m━━━━━━━━━━━━━━━━━━━━\u001b[0m\u001b[37m\u001b[0m \u001b[1m221s\u001b[0m 437ms/step - accuracy: 0.8141 - loss: 0.4529 - val_accuracy: 0.9594 - val_loss: 0.1042\n",
            "Epoch 50/50\n",
            "\u001b[1m506/506\u001b[0m \u001b[32m━━━━━━━━━━━━━━━━━━━━\u001b[0m\u001b[37m\u001b[0m \u001b[1m217s\u001b[0m 429ms/step - accuracy: 0.8814 - loss: 0.2888 - val_accuracy: 0.8707 - val_loss: 0.2741\n",
            "\u001b[1m64/64\u001b[0m \u001b[32m━━━━━━━━━━━━━━━━━━━━\u001b[0m\u001b[37m\u001b[0m \u001b[1m4s\u001b[0m 70ms/step - accuracy: 0.9708 - loss: 0.0819\n"
          ]
        },
        {
          "output_type": "stream",
          "name": "stderr",
          "text": [
            "WARNING:absl:You are saving your model as an HDF5 file via `model.save()` or `keras.saving.save_model(model)`. This file format is considered legacy. We recommend using instead the native Keras format, e.g. `model.save('my_model.keras')` or `keras.saving.save_model(model, 'my_model.keras')`. \n"
          ]
        },
        {
          "output_type": "stream",
          "name": "stdout",
          "text": [
            "Test accuracy: 0.966303288936615\n"
          ]
        }
      ]
    },
    {
      "cell_type": "markdown",
      "source": [
        "**Step 7: Visualizing Training Performance**\n",
        "\n",
        "In this step, we analyze the training progress by plotting the accuracy and loss curves for both training and validation datasets.\n",
        "\n",
        "Key Components:\n",
        "1. Accuracy Plot:\n",
        "\n",
        "  * The training and validation accuracies are plotted over the epochs.\n",
        "  * Helps in identifying overfitting or underfitting issues.\n",
        "2. Loss Plot:\n",
        "\n",
        "  * Training and validation losses are plotted.\n",
        "  * A decreasing loss indicates that the model is learning effectively.\n",
        "3. Layout Adjustments:\n",
        "\n",
        "  * Subplots: Two side-by-side graphs for better visualization.\n",
        "  * egends and Titles: Clearly label accuracy and loss trends.\n",
        "  * plt.tight_layout(): Ensures the plots are well-spaced.\n",
        "\n",
        "This visualization helps in understanding model performance and identifying potential improvements."
      ],
      "metadata": {
        "id": "y2Xck6lMOa9N"
      }
    },
    {
      "cell_type": "code",
      "source": [
        "import matplotlib.pyplot as plt\n",
        "\n",
        "fig, axes = plt.subplots(1, 2, figsize=(14, 6))  # 1 row, 2 columns\n",
        "\n",
        "# Plot training & validation accuracy on the first subplot\n",
        "axes[0].plot(history.history['accuracy'], label='Train')\n",
        "axes[0].plot(history.history['val_accuracy'], label='Validation')\n",
        "axes[0].set_title('Model Accuracy')\n",
        "axes[0].set_xlabel('Epochs')\n",
        "axes[0].set_ylabel('Accuracy')\n",
        "axes[0].legend(loc='upper left')\n",
        "\n",
        "# Plot training & validation loss on the second subplot\n",
        "axes[1].plot(history.history['loss'], label='Train')\n",
        "axes[1].plot(history.history['val_loss'], label='Validation')\n",
        "axes[1].set_title('Model Loss')\n",
        "axes[1].set_xlabel('Epochs')\n",
        "axes[1].set_ylabel('Loss')\n",
        "axes[1].legend(loc='upper left')\n",
        "\n",
        "# Show the plots\n",
        "plt.tight_layout()  # To adjust the layout and prevent overlap\n",
        "plt.show()\n"
      ],
      "metadata": {
        "colab": {
          "base_uri": "https://localhost:8080/",
          "height": 490
        },
        "id": "384dQv1VOlwe",
        "outputId": "85310571-56c3-4969-f1b4-186cc4bd5aa0"
      },
      "execution_count": null,
      "outputs": [
        {
          "output_type": "display_data",
          "data": {
            "text/plain": [
              "<Figure size 1400x600 with 2 Axes>"
            ],
            "image/png": "[encoded data removed]"
          },
          "metadata": {}
        }
      ]
    },
    {
      "cell_type": "markdown",
      "source": [
        "**Step 8: Confusion Matrix for Model Evaluation**\n",
        "\n",
        "In this step, we evaluate the performance of the trained model by visualizing the confusion matrix. This matrix provides insights into the model's classification accuracy for each class and helps identify areas where the model might be making mistakes.\n",
        "\n",
        "Key Components:\n",
        "1. True Labels and Predictions:\n",
        "\n",
        "  * True labels are fetched from the test set using test_generator.classes.\n",
        "  * Predictions are generated by the model using model.predict().\n",
        "  * The predictions are converted into class labels by taking the index with the highest probability (using np.argmax()).\n",
        "2. Confusion Matrix Calculation: confusion_matrix() compares the true labels with the predicted class labels and computes the matrix.\n",
        "3. Heatmap Visualization:\n",
        "\n",
        "  * The confusion matrix is plotted as a heatmap using seaborn for easy visualization.\n",
        "  * The heatmap displays the number of correct and incorrect predictions for each class.\n",
        "  * Axis labels represent true classes (y-axis) and predicted classes (x-axis).\n",
        "  * Color intensity reflects the frequency of predictions, making it easier to identify misclassifications.\n",
        "\n",
        "This confusion matrix provides a more granular evaluation of model performance, helping identify specific areas for improvement in classification."
      ],
      "metadata": {
        "id": "vgAxDMi2uC5c"
      }
    },
    {
      "cell_type": "code",
      "source": [
        "from sklearn.metrics import confusion_matrix\n",
        "import seaborn as sns\n",
        "import numpy as np\n",
        "\n",
        "# Get true labels and predictions for the test set\n",
        "test_labels = test_generator.classes  # True labels for test set\n",
        "predictions = model.predict(test_generator, verbose=1)  # Model predictions\n",
        "\n",
        "# Convert predictions to class labels (use argmax to get the predicted class index)\n",
        "predicted_classes = np.argmax(predictions, axis=1)\n",
        "\n",
        "# Compute confusion matrix\n",
        "cm = confusion_matrix(test_labels, predicted_classes)\n",
        "\n",
        "# Plot confusion matrix as a heatmap\n",
        "plt.figure(figsize=(8, 6))\n",
        "sns.heatmap(cm, annot=True, fmt='d', cmap='Blues',\n",
        "            xticklabels=test_generator.class_indices.keys(),\n",
        "            yticklabels=test_generator.class_indices.keys())\n",
        "plt.title('Confusion Matrix')\n",
        "plt.xlabel('Predicted')\n",
        "plt.ylabel('True')\n",
        "plt.show()\n"
      ],
      "metadata": {
        "colab": {
          "base_uri": "https://localhost:8080/",
          "height": 581
        },
        "id": "sdfQvQm1P70G",
        "outputId": "40f0431a-27f4-4bd6-98c6-faa4bfec24a1"
      },
      "execution_count": null,
      "outputs": [
        {
          "output_type": "stream",
          "name": "stdout",
          "text": [
            "\u001b[1m64/64\u001b[0m \u001b[32m━━━━━━━━━━━━━━━━━━━━\u001b[0m\u001b[37m\u001b[0m \u001b[1m6s\u001b[0m 80ms/step\n"
          ]
        },
        {
          "output_type": "display_data",
          "data": {
            "text/plain": [
              "<Figure size 800x600 with 2 Axes>"
            ],
            "image/png": "[encoded data removed]"
          },
          "metadata": {}
        }
      ]
    },
    {
      "cell_type": "markdown",
      "source": [
        "**Step 9: Classification Report**\n",
        "\n",
        "In this step, we generate and print the classification report, which provides detailed metrics such as precision, recall, F1-score, and support for each class. These metrics are valuable in evaluating the model's performance in a multi-class classification task.\n",
        "\n",
        "Key Components:\n",
        "* Precision: Measures how many of the predicted positive samples were actually positive.\n",
        "* Recall: Measures how many of the actual positive samples were correctly identified.\n",
        "* F1-Score: The harmonic mean of precision and recall, providing a balance between them.\n",
        "* Support: The number of true occurrences for each class in the test set.\n",
        "\n",
        "The classification_report() function from scikit-learn calculates these metrics, and the results are printed for each class in the dataset.\n",
        "\n",
        "This step gives a more comprehensive understanding of the model's performance beyond accuracy, helping to identify how well the model performs for each specific class."
      ],
      "metadata": {
        "id": "nJppiHVwuguX"
      }
    },
    {
      "cell_type": "code",
      "source": [
        "from sklearn.metrics import classification_report\n",
        "\n",
        "# Print classification report\n",
        "print(classification_report(test_labels, predicted_classes, target_names=test_generator.class_indices.keys()))\n"
      ],
      "metadata": {
        "colab": {
          "base_uri": "https://localhost:8080/"
        },
        "id": "Eq4kEQEPQB_-",
        "outputId": "b7d67f77-bddf-456c-9baf-97e157a30810"
      },
      "execution_count": null,
      "outputs": [
        {
          "output_type": "stream",
          "name": "stdout",
          "text": [
            "                          precision    recall  f1-score   support\n",
            "\n",
            "           Class 1 Touch       0.94      0.97      0.95       694\n",
            "        Class 2 No hands       0.99      1.00      0.99       660\n",
            "Class 3 No Touch w Hands       0.98      0.93      0.95       664\n",
            "\n",
            "                accuracy                           0.97      2018\n",
            "               macro avg       0.97      0.97      0.97      2018\n",
            "            weighted avg       0.97      0.97      0.97      2018\n",
            "\n"
          ]
        }
      ]
    }
  ]
}